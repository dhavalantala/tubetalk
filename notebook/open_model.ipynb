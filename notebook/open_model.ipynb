{
 "cells": [
  {
   "cell_type": "markdown",
   "id": "2f010249",
   "metadata": {},
   "source": [
    "# **RAG with Open Model**"
   ]
  },
  {
   "cell_type": "code",
   "execution_count": null,
   "id": "2c10648d",
   "metadata": {},
   "outputs": [],
   "source": [
    "from youtube_transcript_api import YouTubeTranscriptApi, TranscriptsDisabled\n",
    "from youtube_transcript_api.formatters import TextFormatter\n",
    "\n",
    "from langchain.text_splitter import RecursiveCharacterTextSplitter\n",
    "from langchain.embeddings import HuggingFaceEmbeddings\n",
    "from langchain.vectorstores import FAISS\n",
    "from langchain.prompts import PromptTemplate\n",
    "from langchain.llms import HuggingFacePipeline\n",
    "from transformers import pipeline\n",
    "from langchain_core.runnables import RunnableParallel, RunnablePassthrough, RunnableLambda\n",
    "from langchain_core.output_parsers import StrOutputParser\n",
    "\n",
    "import re\n",
    "from typing import Optional, List"
   ]
  },
  {
   "cell_type": "code",
   "execution_count": null,
   "id": "1b942d7d",
   "metadata": {},
   "outputs": [],
   "source": [
    "def extract_video_id(url):\n",
    "    \"\"\"Extracts the YouTube video ID from a URL.\n",
    "\n",
    "    Args:\n",
    "        url: The YouTube URL.\n",
    "\n",
    "    Returns:\n",
    "        The video ID, or None if not found.\n",
    "    \"\"\"\n",
    "    # Standard URL: https://www.youtube.com/watch?v=VIDEO_ID\n",
    "    match = re.search(r\"v=([a-zA-Z0-9_-]+)\", url)\n",
    "    if match:\n",
    "        return match.group(1)\n",
    "\n",
    "    # Short URL: https://youtu.be/VIDEO_ID\n",
    "    match = re.search(r\"youtu\\.be\\/([a-zA-Z0-9_-]+)\", url)\n",
    "    if match:\n",
    "        return match.group(1)\n",
    "    return None"
   ]
  },
  {
   "cell_type": "code",
   "execution_count": null,
   "id": "0f6b336d",
   "metadata": {},
   "outputs": [],
   "source": [
    "url1 = \"https://www.youtube.com/watch?v=VMj-3S1tku0&list=PLAqhIrjkxbuWI23v9cThsA9GvCAUhRvKZ\"\n",
    "url2 = \"https://youtu.be/dQw4w9WgXcQ\"\n",
    "url3 = \"invalid-url\"\n",
    "url4 = \"https://www.youtube.com/watch?v=aj_OGw-CQeA&ab_channel=Benjamin-DerDeutschlehrer\"\n",
    "\n",
    "video_id1 = extract_video_id(url1)\n",
    "video_id2 = extract_video_id(url2)\n",
    "video_id3 = extract_video_id(url3)\n",
    "video_id4 = extract_video_id(url4)\n",
    "\n",
    "print(f\"Video ID from url1: {video_id1}\")\n",
    "print(f\"Video ID from url2: {video_id2}\")\n",
    "print(f\"Video ID from url3: {video_id3}\")\n",
    "print(f\"Video ID from url3: {video_id4}\")"
   ]
  },
  {
   "cell_type": "code",
   "execution_count": null,
   "id": "803cc1b8",
   "metadata": {},
   "outputs": [],
   "source": [
    "def get_transcript(video_id: str, languages: Optional[List[str]] = None):\n",
    "        \"\"\"\n",
    "        Fetches and prints the transcript of a YouTube video, along with the raw transcript data.\n",
    "\n",
    "        Args:\n",
    "            video_id: The ID of the YouTube video.\n",
    "            languages: A list of language codes to prioritize (e.g., [\"en\", \"de\", \"hi\"]).\n",
    "                If None, the \"best\" available language is fetched.\n",
    "        \"\"\"\n",
    "        try:\n",
    "            #  Get the transcript as a list of dictionaries\n",
    "            transcript_list = YouTubeTranscriptApi.get_transcript(video_id, languages=languages)\n",
    "\n",
    "            #  Print the raw transcript data (list of dictionaries)\n",
    "            print(\"Raw Transcript Data:\")\n",
    "            print(transcript_list)\n",
    "\n",
    "            # Flatten the transcript to plain text and print it\n",
    "            transcript_text = \" \".join(chunk[\"text\"] for chunk in transcript_list)\n",
    "            print(\"\\nPlain Text Transcript:\")\n",
    "            print(transcript_text)\n",
    "\n",
    "        except TranscriptsDisabled:\n",
    "            print(\"No captions available for this video.\")\n",
    "        except Exception as e:\n",
    "            print(f\"An error occurred: {e}\")"
   ]
  },
  {
   "cell_type": "code",
   "execution_count": null,
   "id": "8ac0b534",
   "metadata": {},
   "outputs": [],
   "source": [
    "get_transcript(video_id1, languages=[\"en\", \"ge\"])"
   ]
  },
  {
   "cell_type": "code",
   "execution_count": null,
   "id": "51675759",
   "metadata": {},
   "outputs": [],
   "source": [
    "get_transcript(video_id4, languages=[\"en\", \"de\"])"
   ]
  },
  {
   "cell_type": "code",
   "execution_count": null,
   "id": "3b976ac9",
   "metadata": {},
   "outputs": [],
   "source": [
    "def extract_transcript_from_url(youtube_url: str, languages: Optional[List[str]] = None):\n",
    "    \"\"\"\n",
    "    Extracts the transcript of a YouTube video from its URL,\n",
    "    along with the raw transcript data.\n",
    "\n",
    "    Args:\n",
    "        youtube_url: The full YouTube video URL.\n",
    "        languages: A list of language codes to prioritize (e.g., [\"en\", \"de\", \"hi\"]).\n",
    "            If None, the \"best\" available language is fetched.\n",
    "\n",
    "    Returns:\n",
    "        The transcript text as a string, or None on error.\n",
    "    \"\"\"\n",
    "    def extract_video_id(url: str) -> str or None:\n",
    "        \"\"\"Extracts the YouTube video ID from a URL.\"\"\"\n",
    "        match_v = re.search(r\"v=([a-zA-Z0-9_-]+)\", url)\n",
    "        if match_v:\n",
    "            return match_v.group(1)\n",
    "        match_be = re.search(r\"youtu\\.be\\/([a-zA-Z0-9_-]+)\", url)\n",
    "        if match_be:\n",
    "            return match_be.group(1)\n",
    "        return None\n",
    "\n",
    "    video_id = extract_video_id(youtube_url)\n",
    "\n",
    "    if not video_id:\n",
    "        print(f\"Error: Could not extract video ID from URL: {youtube_url}\")\n",
    "        return None\n",
    "\n",
    "    def get_transcript(video_id: str, languages: Optional[List[str]] = None) -> Optional[str]:\n",
    "        \"\"\"\n",
    "        Fetches the transcript of a YouTube video.\n",
    "\n",
    "        Args:\n",
    "            video_id: The ID of the YouTube video.\n",
    "            languages: A list of language codes to prioritize.\n",
    "                If None, the \"best\" available language is fetched.\n",
    "\n",
    "        Returns:\n",
    "            The transcript text as a string, or None on error.\n",
    "        \"\"\"\n",
    "        try:\n",
    "            #  Get the transcript as a list of dictionaries\n",
    "            transcript_list = YouTubeTranscriptApi.get_transcript(video_id, languages=languages)\n",
    "\n",
    "            # Flatten the transcript to plain text and return it\n",
    "            transcript_text = \" \".join(chunk[\"text\"] for chunk in transcript_list)\n",
    "            return transcript_text\n",
    "\n",
    "        except TranscriptsDisabled:\n",
    "            print(\"No captions available for this video.\")\n",
    "            return None\n",
    "        except Exception as e:\n",
    "            print(f\"An error occurred: {e}\")\n",
    "            return None\n",
    "\n",
    "    return get_transcript(video_id, languages)\n"
   ]
  },
  {
   "cell_type": "code",
   "execution_count": null,
   "id": "04b6e431",
   "metadata": {},
   "outputs": [],
   "source": [
    "languages = ['de', 'en']"
   ]
  },
  {
   "cell_type": "code",
   "execution_count": null,
   "id": "b4cd0683",
   "metadata": {},
   "outputs": [],
   "source": [
    "transcript = extract_transcript_from_url(url1, ['de', 'en'])\n",
    "transcript_1 = extract_transcript_from_url(url4, ['de', 'en'])"
   ]
  },
  {
   "cell_type": "code",
   "execution_count": null,
   "id": "99bb6b0d",
   "metadata": {},
   "outputs": [],
   "source": [
    "transcript"
   ]
  },
  {
   "cell_type": "code",
   "execution_count": null,
   "id": "a8674829",
   "metadata": {},
   "outputs": [],
   "source": []
  },
  {
   "cell_type": "markdown",
   "id": "c79a77e7",
   "metadata": {},
   "source": [
    "# **Step 1: Split the documents into chunks**"
   ]
  },
  {
   "cell_type": "code",
   "execution_count": null,
   "id": "16f9099c",
   "metadata": {},
   "outputs": [],
   "source": [
    "splitter = RecursiveCharacterTextSplitter(chunk_size = 1000, chunk_overlap = 200)\n",
    "chunks = splitter.create_documents([transcript])"
   ]
  },
  {
   "cell_type": "code",
   "execution_count": null,
   "id": "e6acfda6",
   "metadata": {},
   "outputs": [],
   "source": [
    "chunks[0]"
   ]
  },
  {
   "cell_type": "code",
   "execution_count": null,
   "id": "60f14739",
   "metadata": {},
   "outputs": [],
   "source": []
  },
  {
   "cell_type": "markdown",
   "id": "4d7651f6",
   "metadata": {},
   "source": [
    "# **Step 2: Encoding**"
   ]
  },
  {
   "cell_type": "code",
   "execution_count": null,
   "id": "3bee3303",
   "metadata": {},
   "outputs": [],
   "source": [
    "# Define the path to the pre-trained model you want to use\n",
    "modelPath = \"sentence-transformers/all-MiniLM-l6-v2\"\n",
    "\n",
    "# Create a dictionary with model configuration options, specifying to use the CPU for computations\n",
    "model_kwargs = {'device':'cpu'}\n",
    "\n",
    "# Create a dictionary with encoding options, specifically setting 'normalize_embeddings' to False\n",
    "encode_kwargs = {'normalize_embeddings': False}\n",
    "\n",
    "# Initialize an instance of HuggingFaceEmbeddings with the specified parameters\n",
    "embeddings = HuggingFaceEmbeddings(\n",
    "    model_name=modelPath,     # Provide the pre-trained model's path\n",
    "    model_kwargs=model_kwargs, # Pass the model configuration options\n",
    "    encode_kwargs=encode_kwargs # Pass the encoding options\n",
    ")"
   ]
  },
  {
   "cell_type": "code",
   "execution_count": null,
   "id": "e6381a1b",
   "metadata": {},
   "outputs": [],
   "source": [
    "text = \"This is test docuement.\"\n",
    "query_result = embeddings.embed_query(text) \n",
    "\n",
    "len(query_result)"
   ]
  },
  {
   "cell_type": "markdown",
   "id": "58f93bb1",
   "metadata": {},
   "source": [
    "# **Step 3: Database**"
   ]
  },
  {
   "cell_type": "code",
   "execution_count": null,
   "id": "dce3fb7c",
   "metadata": {},
   "outputs": [],
   "source": [
    "db = FAISS.from_documents(chunks, embedding=embeddings)"
   ]
  },
  {
   "cell_type": "code",
   "execution_count": null,
   "id": "f5639115",
   "metadata": {},
   "outputs": [],
   "source": [
    "question = \"What is Micrograd?\"\n",
    "\n",
    "searchDocs = db.similarity_search(question)\n",
    "\n",
    "print(searchDocs[0].page_content)"
   ]
  },
  {
   "cell_type": "code",
   "execution_count": null,
   "id": "bd015195",
   "metadata": {},
   "outputs": [],
   "source": [
    "db.index_to_docstore_id"
   ]
  },
  {
   "cell_type": "code",
   "execution_count": null,
   "id": "e39261fc",
   "metadata": {},
   "outputs": [],
   "source": [
    "db.get_by_ids([\"305429bf-a768-49b2-8d9e-ac2b85fcbe6c\"])"
   ]
  },
  {
   "cell_type": "markdown",
   "id": "eb053106",
   "metadata": {},
   "source": [
    "## **Retrieval**"
   ]
  },
  {
   "cell_type": "code",
   "execution_count": null,
   "id": "03064fb0",
   "metadata": {},
   "outputs": [],
   "source": [
    "retriever = db.as_retriever(search_type = \"similarity\", search_kwargs={\"k\" : 4})"
   ]
  },
  {
   "cell_type": "code",
   "execution_count": null,
   "id": "75c99042",
   "metadata": {},
   "outputs": [],
   "source": [
    "retriever.invoke(question)"
   ]
  },
  {
   "cell_type": "code",
   "execution_count": null,
   "id": "823af0d0",
   "metadata": {},
   "outputs": [],
   "source": []
  },
  {
   "cell_type": "markdown",
   "id": "cf779081",
   "metadata": {},
   "source": [
    "## Augmentation"
   ]
  },
  {
   "cell_type": "code",
   "execution_count": null,
   "id": "5a71d8f8",
   "metadata": {},
   "outputs": [],
   "source": [
    "template=\"\"\"\n",
    "      You are a helpful assistant.\n",
    "      Answer ONLY from the following transcript context.\n",
    "      If the context is insufficient to answer the question, just say \"I don't know.\"\n",
    "      If possible, cite the specific part of the context that supports your answer.\n",
    "\n",
    "      Transcript Context:\n",
    "      {context}\n",
    "\n",
    "      Question: {question}\n",
    "\n",
    "      Answer:\n",
    "    \"\"\""
   ]
  },
  {
   "cell_type": "code",
   "execution_count": null,
   "id": "c1f64e34",
   "metadata": {},
   "outputs": [],
   "source": [
    "prompt = PromptTemplate(template=template, \n",
    "    input_variables = ['context', 'question'])"
   ]
  },
  {
   "cell_type": "code",
   "execution_count": null,
   "id": "84bd1f02",
   "metadata": {},
   "outputs": [],
   "source": [
    "question          = \"Is the topic of backward propagation discussed in this video? if yes then what was discussed\"\n",
    "retrieved_docs    = retriever.invoke(question)"
   ]
  },
  {
   "cell_type": "code",
   "execution_count": null,
   "id": "61b245eb",
   "metadata": {},
   "outputs": [],
   "source": [
    "retrieved_docs"
   ]
  },
  {
   "cell_type": "code",
   "execution_count": null,
   "id": "b99547c0",
   "metadata": {},
   "outputs": [],
   "source": [
    "context = \"\\n\\n\".join([doc.page_content for doc in retrieved_docs])\n",
    "context"
   ]
  },
  {
   "cell_type": "code",
   "execution_count": null,
   "id": "bdc60465",
   "metadata": {},
   "outputs": [],
   "source": [
    "final_prompt = prompt.invoke({\"context\": context, \"question\": question})"
   ]
  },
  {
   "cell_type": "code",
   "execution_count": null,
   "id": "a14dc399",
   "metadata": {},
   "outputs": [],
   "source": [
    "final_prompt"
   ]
  },
  {
   "cell_type": "markdown",
   "id": "4bd0b849",
   "metadata": {},
   "source": [
    "# **Step 4: LLM Model**\n",
    "\n",
    "![](https://miro.medium.com/v2/resize:fit:720/format:webp/1*tdPlvSI-dctBCbbRdG26jA.png)"
   ]
  },
  {
   "cell_type": "code",
   "execution_count": null,
   "id": "ce0cc800",
   "metadata": {},
   "outputs": [],
   "source": [
    "llm_pipline = pipeline(\n",
    "    \"text-generation\",\n",
    "    model=\"microsoft/phi-2\",\n",
    "    max_new_tokens = 200\n",
    ")"
   ]
  },
  {
   "cell_type": "code",
   "execution_count": null,
   "id": "b0f731c9",
   "metadata": {},
   "outputs": [],
   "source": [
    "llm = HuggingFacePipeline(pipeline=llm_pipline)"
   ]
  },
  {
   "cell_type": "code",
   "execution_count": null,
   "id": "232177ad",
   "metadata": {},
   "outputs": [],
   "source": [
    "answer = llm.invoke(question)\n",
    "print(answer)"
   ]
  },
  {
   "cell_type": "code",
   "execution_count": null,
   "id": "f5adc6ea",
   "metadata": {},
   "outputs": [],
   "source": []
  },
  {
   "cell_type": "markdown",
   "id": "da32c1fd",
   "metadata": {},
   "source": [
    "# **Building a Chain**"
   ]
  },
  {
   "cell_type": "code",
   "execution_count": null,
   "id": "63b6adfb",
   "metadata": {},
   "outputs": [],
   "source": [
    "def format_docs(retrieved_docs):\n",
    "    context_text = \"\\n\\n\".join(doc.page_content for doc in retrieved_docs)\n",
    "    return context_text"
   ]
  },
  {
   "cell_type": "code",
   "execution_count": null,
   "id": "ff349289",
   "metadata": {},
   "outputs": [],
   "source": [
    "parallel_chain = RunnableParallel({\n",
    "    'context': retriever | RunnableLambda(format_docs),\n",
    "    'question': RunnablePassthrough()\n",
    "})"
   ]
  },
  {
   "cell_type": "code",
   "execution_count": null,
   "id": "7e51d13a",
   "metadata": {},
   "outputs": [],
   "source": [
    "parallel_chain.invoke('What is Micro Grad')"
   ]
  },
  {
   "cell_type": "code",
   "execution_count": null,
   "id": "6113f9f5",
   "metadata": {},
   "outputs": [],
   "source": [
    "parser = StrOutputParser()"
   ]
  },
  {
   "cell_type": "code",
   "execution_count": null,
   "id": "6f3fe345",
   "metadata": {},
   "outputs": [],
   "source": [
    "main_chain = parallel_chain | prompt | llm | parser"
   ]
  },
  {
   "cell_type": "code",
   "execution_count": null,
   "id": "28670b8e",
   "metadata": {},
   "outputs": [],
   "source": [
    "ans = main_chain.invoke('What is micrograd')"
   ]
  },
  {
   "cell_type": "code",
   "execution_count": null,
   "id": "71d4f19a",
   "metadata": {},
   "outputs": [],
   "source": [
    "ans"
   ]
  },
  {
   "cell_type": "code",
   "execution_count": null,
   "id": "7a5e603d",
   "metadata": {},
   "outputs": [],
   "source": []
  }
 ],
 "metadata": {
  "kernelspec": {
   "display_name": "venv",
   "language": "python",
   "name": "python3"
  },
  "language_info": {
   "codemirror_mode": {
    "name": "ipython",
    "version": 3
   },
   "file_extension": ".py",
   "mimetype": "text/x-python",
   "name": "python",
   "nbconvert_exporter": "python",
   "pygments_lexer": "ipython3",
   "version": "3.12.4"
  }
 },
 "nbformat": 4,
 "nbformat_minor": 5
}
