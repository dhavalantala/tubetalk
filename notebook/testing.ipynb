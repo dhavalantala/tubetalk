{
 "cells": [
  {
   "cell_type": "code",
   "execution_count": null,
   "id": "3dd6be7d",
   "metadata": {},
   "outputs": [],
   "source": [
    "from youtube_transcript_api import YouTubeTranscriptApi, TranscriptsDisabled\n",
    "from youtube_transcript_api.formatters import TextFormatter\n",
    "\n",
    "from langchain.text_splitter import RecursiveCharacterTextSplitter\n",
    "from langchain_openai import OpenAIEmbeddings, ChatOpenAI\n",
    "from langchain_community.vectorstores import FAISS\n",
    "from langchain_core.prompts import PromptTemplate\n",
    "\n",
    "import re \n",
    "from typing import Optional, List"
   ]
  },
  {
   "cell_type": "code",
   "execution_count": null,
   "id": "c568a7e3",
   "metadata": {},
   "outputs": [],
   "source": [
    "def extract_video_id(url):\n",
    "    \"\"\"Extracts the YouTube video ID from a URL.\n",
    "\n",
    "    Args:\n",
    "        url: The YouTube URL.\n",
    "\n",
    "    Returns:\n",
    "        The video ID, or None if not found.\n",
    "    \"\"\"\n",
    "    # Standard URL: https://www.youtube.com/watch?v=VIDEO_ID\n",
    "    match = re.search(r\"v=([a-zA-Z0-9_-]+)\", url)\n",
    "    if match:\n",
    "        return match.group(1)\n",
    "\n",
    "    # Short URL: https://youtu.be/VIDEO_ID\n",
    "    match = re.search(r\"youtu\\.be\\/([a-zA-Z0-9_-]+)\", url)\n",
    "    if match:\n",
    "        return match.group(1)\n",
    "    return None"
   ]
  },
  {
   "cell_type": "code",
   "execution_count": null,
   "id": "dc6f0c61",
   "metadata": {},
   "outputs": [],
   "source": [
    "url1 = \"https://www.youtube.com/watch?v=VMj-3S1tku0&list=PLAqhIrjkxbuWI23v9cThsA9GvCAUhRvKZ\"\n",
    "url2 = \"https://youtu.be/dQw4w9WgXcQ\"\n",
    "url3 = \"invalid-url\"\n",
    "url4 = \"https://www.youtube.com/watch?v=aj_OGw-CQeA&ab_channel=Benjamin-DerDeutschlehrer\"\n",
    "\n",
    "video_id1 = extract_video_id(url1)\n",
    "video_id2 = extract_video_id(url2)\n",
    "video_id3 = extract_video_id(url3)\n",
    "video_id4 = extract_video_id(url4)\n",
    "\n",
    "print(f\"Video ID from url1: {video_id1}\")\n",
    "print(f\"Video ID from url2: {video_id2}\")\n",
    "print(f\"Video ID from url3: {video_id3}\")\n",
    "print(f\"Video ID from url3: {video_id4}\")"
   ]
  },
  {
   "cell_type": "code",
   "execution_count": null,
   "id": "e702ed60",
   "metadata": {},
   "outputs": [],
   "source": [
    "def get_transcript(video_id: str, languages: Optional[List[str]] = None):\n",
    "        \"\"\"\n",
    "        Fetches and prints the transcript of a YouTube video, along with the raw transcript data.\n",
    "\n",
    "        Args:\n",
    "            video_id: The ID of the YouTube video.\n",
    "            languages: A list of language codes to prioritize (e.g., [\"en\", \"de\", \"hi\"]).\n",
    "                If None, the \"best\" available language is fetched.\n",
    "        \"\"\"\n",
    "        try:\n",
    "            #  Get the transcript as a list of dictionaries\n",
    "            transcript_list = YouTubeTranscriptApi.get_transcript(video_id, languages=languages)\n",
    "\n",
    "            #  Print the raw transcript data (list of dictionaries)\n",
    "            print(\"Raw Transcript Data:\")\n",
    "            print(transcript_list)\n",
    "\n",
    "            # Flatten the transcript to plain text and print it\n",
    "            transcript_text = \" \".join(chunk[\"text\"] for chunk in transcript_list)\n",
    "            print(\"\\nPlain Text Transcript:\")\n",
    "            print(transcript_text)\n",
    "\n",
    "        except TranscriptsDisabled:\n",
    "            print(\"No captions available for this video.\")\n",
    "        except Exception as e:\n",
    "            print(f\"An error occurred: {e}\")"
   ]
  },
  {
   "cell_type": "code",
   "execution_count": null,
   "id": "63bda5c9",
   "metadata": {},
   "outputs": [],
   "source": [
    "get_transcript(video_id1, languages=[\"en\", \"ge\"])"
   ]
  },
  {
   "cell_type": "code",
   "execution_count": null,
   "id": "3ab8aae7",
   "metadata": {},
   "outputs": [],
   "source": [
    "get_transcript(video_id4, languages=[\"en\", \"de\"])"
   ]
  },
  {
   "cell_type": "code",
   "execution_count": null,
   "id": "4f337c19",
   "metadata": {},
   "outputs": [],
   "source": [
    "import re\n",
    "from youtube_transcript_api import YouTubeTranscriptApi, TranscriptsDisabled\n",
    "from typing import List, Optional\n",
    "\n",
    "def extract_transcript_from_url(youtube_url: str, languages: Optional[List[str]] = None):\n",
    "    \"\"\"\n",
    "    Extracts the transcript of a YouTube video from its URL,\n",
    "    along with the raw transcript data.\n",
    "\n",
    "    Args:\n",
    "        youtube_url: The full YouTube video URL.\n",
    "        languages: A list of language codes to prioritize (e.g., [\"en\", \"de\", \"hi\"]).\n",
    "            If None, the \"best\" available language is fetched.\n",
    "\n",
    "    Returns:\n",
    "        The transcript text as a string, or None on error.\n",
    "    \"\"\"\n",
    "    def extract_video_id(url: str) -> str or None:\n",
    "        \"\"\"Extracts the YouTube video ID from a URL.\"\"\"\n",
    "        match_v = re.search(r\"v=([a-zA-Z0-9_-]+)\", url)\n",
    "        if match_v:\n",
    "            return match_v.group(1)\n",
    "        match_be = re.search(r\"youtu\\.be\\/([a-zA-Z0-9_-]+)\", url)\n",
    "        if match_be:\n",
    "            return match_be.group(1)\n",
    "        return None\n",
    "\n",
    "    video_id = extract_video_id(youtube_url)\n",
    "\n",
    "    if not video_id:\n",
    "        print(f\"Error: Could not extract video ID from URL: {youtube_url}\")\n",
    "        return None\n",
    "\n",
    "    def get_transcript(video_id: str, languages: Optional[List[str]] = None) -> Optional[str]:\n",
    "        \"\"\"\n",
    "        Fetches the transcript of a YouTube video.\n",
    "\n",
    "        Args:\n",
    "            video_id: The ID of the YouTube video.\n",
    "            languages: A list of language codes to prioritize.\n",
    "                If None, the \"best\" available language is fetched.\n",
    "\n",
    "        Returns:\n",
    "            The transcript text as a string, or None on error.\n",
    "        \"\"\"\n",
    "        try:\n",
    "            #  Get the transcript as a list of dictionaries\n",
    "            transcript_list = YouTubeTranscriptApi.get_transcript(video_id, languages=languages)\n",
    "\n",
    "            # Flatten the transcript to plain text and return it\n",
    "            transcript_text = \" \".join(chunk[\"text\"] for chunk in transcript_list)\n",
    "            return transcript_text\n",
    "\n",
    "        except TranscriptsDisabled:\n",
    "            print(\"No captions available for this video.\")\n",
    "            return None\n",
    "        except Exception as e:\n",
    "            print(f\"An error occurred: {e}\")\n",
    "            return None\n",
    "\n",
    "    return get_transcript(video_id, languages)\n"
   ]
  },
  {
   "cell_type": "code",
   "execution_count": null,
   "id": "5b572ba1",
   "metadata": {},
   "outputs": [],
   "source": [
    "transcript = extract_transcript_from_url(url1, ['de', 'en'])\n",
    "transcript_1 = extract_transcript_from_url(url4, ['de', 'en'])"
   ]
  },
  {
   "cell_type": "code",
   "execution_count": null,
   "id": "8dbe23ab",
   "metadata": {},
   "outputs": [],
   "source": [
    "transcript"
   ]
  },
  {
   "cell_type": "code",
   "execution_count": null,
   "id": "68a67046",
   "metadata": {},
   "outputs": [],
   "source": [
    "transcript_1"
   ]
  },
  {
   "cell_type": "markdown",
   "id": "2d3f7106",
   "metadata": {},
   "source": [
    "## Step 1b -- Indexing (Text Splitting)"
   ]
  },
  {
   "cell_type": "code",
   "execution_count": null,
   "id": "d1fdfcdb",
   "metadata": {},
   "outputs": [],
   "source": [
    "splitter = RecursiveCharacterTextSplitter(chunk_size = 1000, chunk_overlap = 200)\n",
    "chunks = splitter.create_documents([transcript])"
   ]
  },
  {
   "cell_type": "code",
   "execution_count": null,
   "id": "9607ef80",
   "metadata": {},
   "outputs": [],
   "source": [
    "len(chunks)"
   ]
  },
  {
   "cell_type": "code",
   "execution_count": null,
   "id": "ff1d13ab",
   "metadata": {},
   "outputs": [],
   "source": []
  },
  {
   "cell_type": "markdown",
   "id": "b032a730",
   "metadata": {},
   "source": [
    "## **Step 1c & 1d - Indexing (Embedding Generation and Storing in Vector Store)**"
   ]
  },
  {
   "cell_type": "code",
   "execution_count": null,
   "id": "a5a030b2",
   "metadata": {},
   "outputs": [],
   "source": [
    "embeddings = OpenAIEmbeddings(model=\"text-embedding-3-small\")\n",
    "vector_store = FAISS.from_documents(chunks, embedding=embeddings)"
   ]
  },
  {
   "cell_type": "code",
   "execution_count": null,
   "id": "5732b483",
   "metadata": {},
   "outputs": [],
   "source": [
    "vector_store.index_to_docstore_id"
   ]
  },
  {
   "cell_type": "code",
   "execution_count": null,
   "id": "db526e51",
   "metadata": {},
   "outputs": [],
   "source": [
    "vector_store.get_by_ids(['e87046a7-40e3-4c3f-be13-161955cb671d'])"
   ]
  },
  {
   "cell_type": "code",
   "execution_count": null,
   "id": "7d95a582",
   "metadata": {},
   "outputs": [],
   "source": []
  },
  {
   "cell_type": "markdown",
   "id": "200f2dc5",
   "metadata": {},
   "source": [
    "## Step 2 - Retrieval"
   ]
  },
  {
   "cell_type": "code",
   "execution_count": null,
   "id": "d91dd10b",
   "metadata": {},
   "outputs": [],
   "source": [
    "retriever = vector_store.as_retriever(search_type = \"similarity\", search_kwargs = {\"k\" : 4})"
   ]
  },
  {
   "cell_type": "code",
   "execution_count": null,
   "id": "71fcf5ec",
   "metadata": {},
   "outputs": [],
   "source": [
    "retriever"
   ]
  },
  {
   "cell_type": "code",
   "execution_count": null,
   "id": "b24f915c",
   "metadata": {},
   "outputs": [],
   "source": [
    "retriever.invoke(\"was ist Deep Learning?\")"
   ]
  },
  {
   "cell_type": "code",
   "execution_count": null,
   "id": "266c583d",
   "metadata": {},
   "outputs": [],
   "source": []
  },
  {
   "cell_type": "markdown",
   "id": "cdbe2a95",
   "metadata": {},
   "source": [
    "## **Step3 - Augmentation**"
   ]
  },
  {
   "cell_type": "code",
   "execution_count": null,
   "id": "c0b6b140",
   "metadata": {},
   "outputs": [],
   "source": [
    "template=\"\"\"\n",
    "      You are a helpful assistant.\n",
    "      Answer ONLY from the following transcript context.\n",
    "      If the context is insufficient to answer the question, just say \"I don't know.\"\n",
    "      If possible, cite the specific part of the context that supports your answer.\n",
    "\n",
    "      Transcript Context:\n",
    "      {context}\n",
    "\n",
    "      Question: {question}\n",
    "\n",
    "      Answer:\n",
    "    \"\"\""
   ]
  },
  {
   "cell_type": "code",
   "execution_count": null,
   "id": "dc94ae88",
   "metadata": {},
   "outputs": [],
   "source": [
    "prompt = PromptTemplate(template=template, \n",
    "    input_variables = ['context', 'question'])"
   ]
  },
  {
   "cell_type": "code",
   "execution_count": null,
   "id": "202bd8bb",
   "metadata": {},
   "outputs": [],
   "source": [
    "prompt"
   ]
  },
  {
   "cell_type": "code",
   "execution_count": null,
   "id": "7f53cb13",
   "metadata": {},
   "outputs": [],
   "source": [
    "question          = \"is the topic of weil discussed in this video? if yes then what was discussed\"\n",
    "retrieved_docs    = retriever.invoke(question)"
   ]
  },
  {
   "cell_type": "code",
   "execution_count": null,
   "id": "a001e4a3",
   "metadata": {},
   "outputs": [],
   "source": [
    "retrieved_docs"
   ]
  },
  {
   "cell_type": "code",
   "execution_count": null,
   "id": "d81c9aae",
   "metadata": {},
   "outputs": [],
   "source": [
    "context_text = \"\\n\\n\".join(doc.page_content for doc in retrieved_docs)\n",
    "context_text"
   ]
  },
  {
   "cell_type": "code",
   "execution_count": null,
   "id": "eb9e2666",
   "metadata": {},
   "outputs": [],
   "source": [
    "final_prompt = prompt.invoke({\"context\": context_text, \"question\": question})"
   ]
  },
  {
   "cell_type": "code",
   "execution_count": null,
   "id": "85759351",
   "metadata": {},
   "outputs": [],
   "source": [
    "final_prompt"
   ]
  },
  {
   "cell_type": "code",
   "execution_count": null,
   "id": "66d6b5d7",
   "metadata": {},
   "outputs": [],
   "source": []
  },
  {
   "cell_type": "markdown",
   "id": "d52537d3",
   "metadata": {},
   "source": [
    "## **Step4 -- Generation**"
   ]
  },
  {
   "cell_type": "code",
   "execution_count": null,
   "id": "fe406ed2",
   "metadata": {},
   "outputs": [],
   "source": [
    "answer = llm.invoke(final_prompt)\n",
    "print(answer.content)"
   ]
  },
  {
   "cell_type": "code",
   "execution_count": null,
   "id": "a5645013",
   "metadata": {},
   "outputs": [],
   "source": []
  },
  {
   "cell_type": "markdown",
   "id": "f2fc8d75",
   "metadata": {},
   "source": [
    "## **Building a Chain**"
   ]
  },
  {
   "cell_type": "code",
   "execution_count": null,
   "id": "69512c50",
   "metadata": {},
   "outputs": [],
   "source": [
    "from langchain_core.runnables import RunnableParallel, RunnablePassthrough, RunnableLambda\n",
    "from langchain_core.output_parsers import StrOutputParser"
   ]
  },
  {
   "cell_type": "code",
   "execution_count": null,
   "id": "a83d1730",
   "metadata": {},
   "outputs": [],
   "source": [
    "def format_docs(retrieved_docs):\n",
    "    context_text = \"\\n\\n\".join(doc.page_content for doc in retrieved_docs)\n",
    "    return context_text"
   ]
  },
  {
   "cell_type": "code",
   "execution_count": null,
   "id": "917148a9",
   "metadata": {},
   "outputs": [],
   "source": [
    "parallel_chain = RunnableParallel({\n",
    "    'context': retriever | RunnableLambda(format_docs),\n",
    "    'question': RunnablePassthrough()\n",
    "})"
   ]
  },
  {
   "cell_type": "code",
   "execution_count": null,
   "id": "3cae389d",
   "metadata": {},
   "outputs": [],
   "source": [
    "parallel_chain.invoke('who is Micro Grad')"
   ]
  },
  {
   "cell_type": "code",
   "execution_count": null,
   "id": "689cbd9e",
   "metadata": {},
   "outputs": [],
   "source": [
    "parser = StrOutputParser()"
   ]
  },
  {
   "cell_type": "code",
   "execution_count": null,
   "id": "368323c2",
   "metadata": {},
   "outputs": [],
   "source": [
    "main_chain = parallel_chain | prompt | llm | parser"
   ]
  },
  {
   "cell_type": "code",
   "execution_count": null,
   "id": "7a4c56ee",
   "metadata": {},
   "outputs": [],
   "source": [
    "main_chain.invoke('What is micrograd')"
   ]
  },
  {
   "cell_type": "code",
   "execution_count": null,
   "id": "072438db",
   "metadata": {},
   "outputs": [],
   "source": [
    "main_chain.invoke('Can you summarize the video')"
   ]
  },
  {
   "cell_type": "code",
   "execution_count": null,
   "id": "267a3cce",
   "metadata": {},
   "outputs": [],
   "source": []
  }
 ],
 "metadata": {
  "kernelspec": {
   "display_name": "venv",
   "language": "python",
   "name": "python3"
  },
  "language_info": {
   "codemirror_mode": {
    "name": "ipython",
    "version": 3
   },
   "file_extension": ".py",
   "mimetype": "text/x-python",
   "name": "python",
   "nbconvert_exporter": "python",
   "pygments_lexer": "ipython3",
   "version": "3.12.4"
  }
 },
 "nbformat": 4,
 "nbformat_minor": 5
}
